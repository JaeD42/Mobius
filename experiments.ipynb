{
 "cells": [
  {
   "cell_type": "code",
   "execution_count": 1,
   "metadata": {
    "collapsed": true
   },
   "outputs": [],
   "source": [
    "from Mobius.SvgManipulation import SVGContainer as Con"
   ]
  },
  {
   "cell_type": "code",
   "execution_count": 152,
   "metadata": {},
   "outputs": [],
   "source": [
    "container = Con(\"Mobius/test41.svg\")"
   ]
  },
  {
   "cell_type": "code",
   "execution_count": 153,
   "metadata": {},
   "outputs": [],
   "source": [
    "def change(inp):\n",
    "    res=[]\n",
    "    mul100=[\"cx\",\"cy\",\"r\"]\n",
    "    for val in mul100:\n",
    "        mul=100\n",
    "        if val==\"r\":\n",
    "            mul=1\n",
    "        res.append((val,max(0.1,mul*float(inp[val]))))\n",
    "    if inp[\"id\"]==\"0\":\n",
    "        res.append((\"fill\",\"blue\"))\n",
    "    elif inp[\"id\"]==\"1\":\n",
    "        res.append((\"fill\",\"red\"))\n",
    "    elif inp[\"id\"]==\"2\":\n",
    "        res.append((\"fill\",\"green\"))\n",
    "    else:\n",
    "        res.append((\"fill\",\"black\"))\n",
    "    #res.append((\"fill\",\"url(#radial)\"))\n",
    "    res.append((\"opacity\",1))\n",
    "    return res"
   ]
  },
  {
   "cell_type": "code",
   "execution_count": 154,
   "metadata": {},
   "outputs": [],
   "source": [
    "container.batch_change(change)"
   ]
  },
  {
   "cell_type": "code",
   "execution_count": 156,
   "metadata": {},
   "outputs": [],
   "source": [
    "container.save(\"resized41.svg\")"
   ]
  },
  {
   "cell_type": "code",
   "execution_count": 155,
   "metadata": {},
   "outputs": [],
   "source": [
    "container.change_property(container.tree.getroot(),\"width\",1000)\n",
    "container.change_property(container.tree.getroot(),\"height\",1000)"
   ]
  },
  {
   "cell_type": "code",
   "execution_count": 17,
   "metadata": {},
   "outputs": [],
   "source": [
    "defs = None\n",
    "for val in container.tree.iter(\"{http://www.w3.org/2000/svg}defs\"):\n",
    "    defs=val"
   ]
  },
  {
   "cell_type": "code",
   "execution_count": 39,
   "metadata": {},
   "outputs": [],
   "source": [
    "defs.text='<radialGradient id=\"radial\" fx=\"50%\" fy=\"50%\" cx=\"50%\" cy=\"50%\" r=\"75%\"><stop offset=\"0%\"   stop-color=\"#05a\" stop-opacity=\"1\"/><stop offset=\"100%\" stop-color=\"#0a5\" stop-opacity=\"1\" />'"
   ]
  },
  {
   "cell_type": "code",
   "execution_count": null,
   "metadata": {},
   "outputs": [],
   "source": [
    "from lxml import etree"
   ]
  },
  {
   "cell_type": "code",
   "execution_count": 51,
   "metadata": {},
   "outputs": [
    {
     "ename": "TypeError",
     "evalue": "Argument must be bytes or unicode, got '_Element'",
     "traceback": [
      "\u001b[0;31m\u001b[0m",
      "\u001b[0;31mTypeError\u001b[0mTraceback (most recent call last)",
      "\u001b[0;32m<ipython-input-51-2f2ad8c1a34c>\u001b[0m in \u001b[0;36m<module>\u001b[0;34m()\u001b[0m\n\u001b[1;32m      1\u001b[0m \u001b[0mh\u001b[0m\u001b[0;34m=\u001b[0m\u001b[0metree\u001b[0m\u001b[0;34m.\u001b[0m\u001b[0mHTMLParser\u001b[0m\u001b[0;34m(\u001b[0m\u001b[0;34m)\u001b[0m\u001b[0;34m\u001b[0m\u001b[0m\n\u001b[0;32m----> 2\u001b[0;31m \u001b[0metree\u001b[0m\u001b[0;34m.\u001b[0m\u001b[0mSubElement\u001b[0m\u001b[0;34m(\u001b[0m\u001b[0mdefs\u001b[0m\u001b[0;34m,\u001b[0m\u001b[0mgrad\u001b[0m\u001b[0;34m)\u001b[0m\u001b[0;34m\u001b[0m\u001b[0m\n\u001b[0m",
      "\u001b[0;32msrc/lxml/lxml.etree.pyx\u001b[0m in \u001b[0;36mlxml.etree.SubElement (src/lxml/lxml.etree.c:81786)\u001b[0;34m()\u001b[0m\n",
      "\u001b[0;32msrc/lxml/apihelpers.pxi\u001b[0m in \u001b[0;36mlxml.etree._makeSubElement (src/lxml/lxml.etree.c:18032)\u001b[0;34m()\u001b[0m\n",
      "\u001b[0;32msrc/lxml/apihelpers.pxi\u001b[0m in \u001b[0;36mlxml.etree._getNsTag (src/lxml/lxml.etree.c:33948)\u001b[0;34m()\u001b[0m\n",
      "\u001b[0;32msrc/lxml/apihelpers.pxi\u001b[0m in \u001b[0;36mlxml.etree.__getNsTag (src/lxml/lxml.etree.c:34118)\u001b[0;34m()\u001b[0m\n",
      "\u001b[0;32msrc/lxml/apihelpers.pxi\u001b[0m in \u001b[0;36mlxml.etree._utf8 (src/lxml/lxml.etree.c:32414)\u001b[0;34m()\u001b[0m\n",
      "\u001b[0;31mTypeError\u001b[0m: Argument must be bytes or unicode, got '_Element'"
     ],
     "output_type": "error"
    }
   ],
   "source": [
    "h=etree.HTMLParser()\n",
    "etree.SubElement(defs,grad)"
   ]
  },
  {
   "cell_type": "code",
   "execution_count": 8,
   "metadata": {},
   "outputs": [],
   "source": [
    "from lxml import etree\n",
    "grad = etree.fromstring('<radialGradient id=\"radial\" fx=\"50%\" fy=\"50%\" cx=\"50%\" cy=\"50%\" r=\"75%\"><stop offset=\"0%\"   stop-color=\"#05a\" stop-opacity=\"1\"/><stop offset=\"100%\" stop-color=\"#0a5\" stop-opacity=\"1\" /> </radialGradient>')"
   ]
  },
  {
   "cell_type": "code",
   "execution_count": 18,
   "metadata": {},
   "outputs": [],
   "source": [
    "from copy import deepcopy\n",
    "defs.append(deepcopy(grad))"
   ]
  },
  {
   "cell_type": "code",
   "execution_count": null,
   "metadata": {},
   "outputs": [],
   "source": [
    "defs"
   ]
  },
  {
   "cell_type": "code",
   "execution_count": null,
   "metadata": {},
   "outputs": [],
   "source": [
    ""
   ]
  }
 ],
 "metadata": {
  "kernelspec": {
   "display_name": "Python 2",
   "language": "python",
   "name": "python2"
  },
  "language_info": {
   "codemirror_mode": {
    "name": "ipython",
    "version": 2.0
   },
   "file_extension": ".py",
   "mimetype": "text/x-python",
   "name": "python",
   "nbconvert_exporter": "python",
   "pygments_lexer": "ipython2",
   "version": "2.7.6"
  }
 },
 "nbformat": 4,
 "nbformat_minor": 0
}